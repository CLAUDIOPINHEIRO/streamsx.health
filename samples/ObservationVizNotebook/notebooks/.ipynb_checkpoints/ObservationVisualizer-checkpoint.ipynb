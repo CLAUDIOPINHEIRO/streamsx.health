{
 "cells": [
  {
   "cell_type": "code",
   "execution_count": null,
   "metadata": {
    "collapsed": false
   },
   "outputs": [],
   "source": [
    "!pip install streamsx"
   ]
  },
  {
   "cell_type": "code",
   "execution_count": null,
   "metadata": {
    "collapsed": false
   },
   "outputs": [],
   "source": [
    "import sys\n",
    "sys.path.append(\"../src/\")\n",
    "\n",
    "from streamsx import rest\n",
    "from streamsx.topology import schema\n",
    "from streamsx.topology.topology import Topology\n",
    "from streamsx.topology.context import ConfigParams, submit\n",
    "import json\n",
    "import time\n",
    "from obsdemo.windows import TumblingWindow\n",
    "from obsdemo.utils import *\n",
    "\n",
    "# Import Observation\n",
    "from streamsx_health.ingest.ObservationTypeResolver import *\n",
    "\n",
    "topic = 'ingest-vines'\n",
    "window_length=10\n",
    "signal_label='MDC_ECG_ELEC_POTL_AVF'\n",
    "\n",
    "# Create Topology and read from data source\n",
    "topo = Topology(\"observation_visualization\")\n",
    "patientData = topo.subscribe(topic, schema.CommonSchema.Json)\n",
    "\n",
    "# Create new data stream containing only the specificed signal\n",
    "ecg = patientData.filter(ObservationTypeFilter(signal_label))\n",
    "\n",
    "# Aggregate the last `window_length` tuples into a list\n",
    "aggStream = ecg.transform(TumblingWindow(length=window_length))\n",
    "\n",
    "# transform the list into a format that is easy to visualize\n",
    "vizStream = aggStream.transform(to_viz_obj)\n",
    "\n",
    "# Output the data to a view\n",
    "data_view = vizStream.view(name=\"ecg_view\")\n",
    "\n",
    "# Submit as stand-alone\n",
    "sc = rest.StreamsConnection(username='streamsadmin', password='passw0rd')\n",
    "sc.session.verify=False\n",
    "submit(\"DISTRIBUTED\", topo, config={ConfigParams.STREAMS_CONNECTION: sc})"
   ]
  },
  {
   "cell_type": "code",
   "execution_count": null,
   "metadata": {
    "collapsed": false
   },
   "outputs": [],
   "source": [
    "# hides warnings\n",
    "import warnings\n",
    "warnings.filterwarnings('ignore')\n",
    "\n",
    "from obsdemo.medgraphs import *\n",
    "\n",
    "## load BokehJS visualization library (must be loaded in a separate cell)\n",
    "from bokeh.io import output_notebook, push_notebook\n",
    "from bokeh.resources import INLINE\n",
    "output_notebook(resources=INLINE)\n",
    "%autosave 0\n",
    "%reload_ext autoreload\n",
    "%aimport obsdemo.utils\n",
    "%aimport obsdemo.medgraphs\n",
    "%autoreload 1\n",
    "\n",
    "graphs = []\n",
    "ecg_graph = ECGGraph(signal_label=signal_label, title='ECG (' + signal_label + ')', plot_width=600, min_range=-0.5, max_range=2.0)\n",
    "graphs.append(ecg_graph)\n",
    "\n",
    "def data_collector(view, graphs):\n",
    "    for d in iter(view.get, None):\n",
    "        for g in graphs:\n",
    "            g.add(d)\n",
    "\n",
    "from IPython.lib import backgroundjobs as bg\n",
    "jobs = bg.BackgroundJobManager()\n",
    "jobs.new(data_collector, data_view.start_data_fetch(), graphs)"
   ]
  },
  {
   "cell_type": "code",
   "execution_count": null,
   "metadata": {
    "collapsed": false
   },
   "outputs": [],
   "source": [
    "import time\n",
    "from bokeh.io import show\n",
    "from bokeh.layouts import column, row, widgetbox\n",
    "\n",
    "## display graphs\n",
    "show(ecg_graph.get_figure(), notebook_handle=True)\n",
    "\n",
    "cnt = 0\n",
    "while True:\n",
    "    ## update graphs\n",
    "    for g in graphs:\n",
    "        g.update()\n",
    "\n",
    "    ## update notebook \n",
    "    cnt += 1\n",
    "    if cnt % 5 == 0:\n",
    "        push_notebook() ## refresh the graphs\n",
    "        cnt = 0\n",
    "    time.sleep(0.010)"
   ]
  }
 ],
 "metadata": {
  "anaconda-cloud": {},
  "kernelspec": {
   "display_name": "Python [conda root]",
   "language": "python",
   "name": "conda-root-py"
  },
  "language_info": {
   "codemirror_mode": {
    "name": "ipython",
    "version": 3
   },
   "file_extension": ".py",
   "mimetype": "text/x-python",
   "name": "python",
   "nbconvert_exporter": "python",
   "pygments_lexer": "ipython3",
   "version": "3.5.2"
  }
 },
 "nbformat": 4,
 "nbformat_minor": 1
}
